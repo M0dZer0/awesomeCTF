{
 "cells": [
  {
   "cell_type": "code",
   "execution_count": null,
   "id": "initial_id",
   "metadata": {
    "collapsed": true
   },
   "outputs": [],
   "source": [
    "import os"
   ]
  },
  {
   "cell_type": "code",
   "execution_count": 3,
   "metadata": {},
   "outputs": [
    {
     "name": "stdout",
     "output_type": "stream",
     "text": [
      "原始字符串:  havefunwithcrypto\n",
      "转换后字符串:  HAVEFUNWITHCRYPTO\n"
     ]
    }
   ],
   "source": [
    "# 大小写变换\n",
    "def convert_to_uppercase(input_string):\n",
    "    return input_string.upper()\n",
    "\n",
    "# 例子\n",
    "original_string = \"havefunwithcrypto\"\n",
    "converted_string = convert_to_uppercase(original_string)\n",
    "\n",
    "print(\"原始字符串: \", original_string)\n",
    "print(\"转换后字符串: \", converted_string)"
   ]
  },
  {
   "cell_type": "code",
   "execution_count": 1,
   "id": "d7c138c68afcd12a",
   "metadata": {
    "ExecuteTime": {
     "end_time": "2023-12-03T13:58:59.527814Z",
     "start_time": "2023-12-03T13:58:59.504520Z"
    },
    "collapsed": false
   },
   "outputs": [
    {
     "name": "stdout",
     "output_type": "stream",
     "text": [
      "解密后:  ngbklatcoznixevzu\n",
      "解密后:  mfajkzsbnymhwduyt\n",
      "解密后:  lezijyramxlgvctxs\n",
      "解密后:  kdyhixqzlwkfubswr\n",
      "解密后:  jcxghwpykvjetarvq\n",
      "解密后:  ibwfgvoxjuidszqup\n",
      "解密后:  havefunwithcrypto\n",
      "解密后:  gzudetmvhsgbqxosn\n",
      "解密后:  fytcdslugrfapwnrm\n",
      "解密后:  exsbcrktfqezovmql\n",
      "解密后:  dwrabqjsepdynulpk\n",
      "解密后:  cvqzapirdocxmtkoj\n",
      "解密后:  bupyzohqcnbwlsjni\n",
      "解密后:  atoxyngpbmavkrimh\n",
      "解密后:  zsnwxmfoalzujqhlg\n",
      "解密后:  yrmvwlenzkytipgkf\n",
      "解密后:  xqluvkdmyjxshofje\n",
      "解密后:  wpktujclxiwrgneid\n",
      "解密后:  vojstibkwhvqfmdhc\n",
      "解密后:  unirshajvgupelcgb\n",
      "解密后:  tmhqrgziuftodkbfa\n",
      "解密后:  slgpqfyhtesncjaez\n",
      "解密后:  rkfopexgsdrmbizdy\n",
      "解密后:  qjenodwfrcqlahycx\n",
      "解密后:  pidmncveqbpkzgxbw\n",
      "解密后:  ohclmbudpaojyfwav\n"
     ]
    }
   ],
   "source": [
    "# Caesar密码\n",
    "def caesar_cipher_decrypt(text, shift):\n",
    "    result = \"\"\n",
    "    for char in text:\n",
    "        if char.isalpha():\n",
    "            # 判断字符是大写还是小写\n",
    "            is_upper = char.isupper()\n",
    "            # 将字符转换为ASCII码\n",
    "            ascii_offset = ord('A') if is_upper else ord('a')\n",
    "            # 减去偏移量，取模保证在字母范围内\n",
    "            decrypted_char = chr((ord(char) - ascii_offset - shift) % 26 + ascii_offset)\n",
    "            result += decrypted_char\n",
    "        else:\n",
    "            # 如果不是字母，则保持不变\n",
    "            result += char\n",
    "    return result\n",
    "\n",
    "# 输入要解密的文本和偏移量\n",
    "ciphertext = 'ngbklatcoznixevzu'\n",
    "shift = 3\n",
    "\n",
    "# 解密文本\n",
    "for i in range(26):\n",
    "    decrypted_text = caesar_cipher_decrypt(ciphertext, i)\n",
    "    print(\"解密后: \", decrypted_text)"
   ]
  }
 ],
 "metadata": {
  "kernelspec": {
   "display_name": "Python 3",
   "language": "python",
   "name": "python3"
  },
  "language_info": {
   "codemirror_mode": {
    "name": "ipython",
    "version": 3
   },
   "file_extension": ".py",
   "mimetype": "text/x-python",
   "name": "python",
   "nbconvert_exporter": "python",
   "pygments_lexer": "ipython3",
   "version": "3.11.5"
  }
 },
 "nbformat": 4,
 "nbformat_minor": 5
}
