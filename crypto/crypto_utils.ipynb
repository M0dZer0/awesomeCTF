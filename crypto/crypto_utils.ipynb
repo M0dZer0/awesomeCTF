{
 "cells": [
  {
   "cell_type": "markdown",
   "metadata": {},
   "source": [
    "目录\n",
    "1. base64解码\n",
    "2. 大小写转换\n",
    "3. becon密码\n",
    "4. caesar密码\n",
    "5. morse密码"
   ]
  },
  {
   "cell_type": "code",
   "execution_count": null,
   "id": "initial_id",
   "metadata": {
    "collapsed": true
   },
   "outputs": [],
   "source": [
    "import os"
   ]
  },
  {
   "cell_type": "code",
   "execution_count": 1,
   "metadata": {},
   "outputs": [
    {
     "name": "stdout",
     "output_type": "stream",
     "text": [
      "[+]The result of decoding is: b'cyberpeace{Welcome_to_new_World!}'\n",
      "[+]The number of decoding is: 1\n"
     ]
    }
   ],
   "source": [
    "# base64解码\n",
    "import base64\n",
    "def base64decoding(src):\n",
    "    num = 0\n",
    "    try:    # 一直解码，直到出错\n",
    "        while True:\n",
    "            src = base64.b64decode(src)\n",
    "            num = num+1\n",
    "    except Exception as e:\n",
    "        print (\"[+]The result of decoding is: %s\" % src)\n",
    "        print (\"[+]The number of decoding is: %d\" % num)\n",
    "\n",
    "if __name__ == '__main__':\n",
    "    strs = 'Y3liZXJwZWFjZXtXZWxjb21lX3RvX25ld19Xb3JsZCF9'\n",
    "    base64decoding(strs)"
   ]
  },
  {
   "cell_type": "code",
   "execution_count": 3,
   "metadata": {},
   "outputs": [
    {
     "name": "stdout",
     "output_type": "stream",
     "text": [
      "原始字符串:  havefunwithcrypto\n",
      "转换后字符串:  HAVEFUNWITHCRYPTO\n"
     ]
    }
   ],
   "source": [
    "# 大小写变换\n",
    "def convert_to_uppercase(input_string):\n",
    "    return input_string.upper()\n",
    "\n",
    "# 例子\n",
    "original_string = \"havefunwithcrypto\"\n",
    "converted_string = convert_to_uppercase(original_string)\n",
    "\n",
    "print(\"原始字符串: \", original_string)\n",
    "print(\"转换后字符串: \", converted_string)"
   ]
  },
  {
   "cell_type": "code",
   "execution_count": null,
   "metadata": {},
   "outputs": [],
   "source": [
    "# becon密码\n",
    "def bacon_decrypt(ciphertext):\n",
    "    bacon_dict = {\n",
    "        'AAAAA': 'A', 'AAAAB': 'B', 'AAABA': 'C', 'AAABB': 'D', 'AABAA': 'E',\n",
    "        'AABAB': 'F', 'AABBA': 'G', 'AABBB': 'H', 'ABAAA': 'I', 'ABAAB': 'J',\n",
    "        'ABABA': 'K', 'ABABB': 'L', 'ABBAA': 'M', 'ABBAB': 'N', 'ABBBA': 'O',\n",
    "        'ABBBB': 'P', 'BAAAA': 'Q', 'BAAAB': 'R', 'BAABA': 'S', 'BAABB': 'T',\n",
    "        'BABAA': 'U', 'BABAB': 'V', 'BABBA': 'W', 'BABBB': 'X', 'BBAAA': 'Y',\n",
    "        'BBAAB': 'Z'\n",
    "    }\n",
    "\n",
    "    ciphertext = ''.join(filter(str.isalpha, ciphertext.upper()))\n",
    "    decrypted_text = ''\n",
    "\n",
    "    for i in range(0, len(ciphertext), 5):\n",
    "        group = ciphertext[i:i+5]\n",
    "        if len(group) == 5:\n",
    "            decrypted_text += bacon_dict[group]\n",
    "        else:\n",
    "            break\n",
    "\n",
    "    return decrypted_text\n",
    "\n",
    "# 示例\n",
    "cipher_text = 'ABBABAABBAAAAABABABAABABBAAAAABAABBAAABAABBBABBAABABBABABAAABABBBAABAABABABBBAABBABAA'\n",
    "decoded_text = bacon_decrypt(cipher_text)\n",
    "print(\"Decrypted Text: \", decoded_text)\n"
   ]
  },
  {
   "cell_type": "code",
   "execution_count": null,
   "id": "d7c138c68afcd12a",
   "metadata": {
    "ExecuteTime": {
     "end_time": "2023-12-03T13:58:59.527814Z",
     "start_time": "2023-12-03T13:58:59.504520Z"
    },
    "collapsed": false
   },
   "outputs": [],
   "source": [
    "# Caesar密码\n",
    "def caesar_cipher_decrypt(text, shift):\n",
    "    result = \"\"\n",
    "    for char in text:\n",
    "        if char.isalpha():\n",
    "            # 判断字符是大写还是小写\n",
    "            is_upper = char.isupper()\n",
    "            # 将字符转换为ASCII码\n",
    "            ascii_offset = ord('A') if is_upper else ord('a')\n",
    "            # 减去偏移量，取模保证在字母范围内\n",
    "            decrypted_char = chr((ord(char) - ascii_offset - shift) % 26 + ascii_offset)\n",
    "            result += decrypted_char\n",
    "        else:\n",
    "            # 如果不是字母，则保持不变\n",
    "            result += char\n",
    "    return result\n",
    "\n",
    "# 输入要解密的文本和偏移量\n",
    "ciphertext = 'oknqdbqmoq{kag_tmhq_xqmdzqp_omqemd_qzodkbfuaz}'\n",
    "shift = 3\n",
    "\n",
    "# 解密文本\n",
    "for i in range(26):\n",
    "    decrypted_text = caesar_cipher_decrypt(ciphertext, i)\n",
    "    print(\"解密后: \", decrypted_text)"
   ]
  },
  {
   "cell_type": "code",
   "execution_count": 4,
   "metadata": {},
   "outputs": [
    {
     "name": "stdout",
     "output_type": "stream",
     "text": [
      "摩斯密码解码结果: MORSECODEISSOINTERESTING\n"
     ]
    }
   ],
   "source": [
    "# 摩斯密码\n",
    "MORSE_CODE_DICT = { 'A':'.-', 'B':'-...',\n",
    "                   'C':'-.-.', 'D':'-..', 'E':'.',\n",
    "                   'F':'..-.', 'G':'--.', 'H':'....',\n",
    "                   'I':'..', 'J':'.---', 'K':'-.-',\n",
    "                   'L':'.-..', 'M':'--', 'N':'-.',\n",
    "                   'O':'---', 'P':'.--.', 'Q':'--.-',\n",
    "                   'R':'.-.', 'S':'...', 'T':'-',\n",
    "                   'U':'..-', 'V':'...-', 'W':'.--',\n",
    "                   'X':'-..-', 'Y':'-.--', 'Z':'--..',\n",
    "                   '1':'.----', '2':'..---', '3':'...--',\n",
    "                   '4':'....-', '5':'.....', '6':'-....',\n",
    "                   '7':'--...', '8':'---..', '9':'----.',\n",
    "                   '0':'-----', ', ':'--..--', '.':'.-.-.-',\n",
    "                   '?':'..--..', '/':'-..-.', '-':'-....-',\n",
    "                   '(':'-.--.', ')':'-.--.-', ' ':'/'}\n",
    "\n",
    "def decode_morse_code(morse_code):\n",
    "    morse_code = morse_code.replace('0', '.')\n",
    "    morse_code = morse_code.replace('1', '-')\n",
    "    morse_code = morse_code.split(' ')  # 以空格分割\n",
    "    \n",
    "    decoded_message = ''\n",
    "    for symbol in morse_code:\n",
    "        for key, value in MORSE_CODE_DICT.items():\n",
    "            if value == symbol:\n",
    "                decoded_message += key\n",
    "    return decoded_message\n",
    "\n",
    "# 示例\n",
    "encoded_message = \"11 111 010 000 0 1010 111 100 0 00 000 000 111 00 10 1 0 010 0 000 1 00 10 110\"\n",
    "decoded_message = decode_morse_code(encoded_message)\n",
    "print(\"摩斯密码解码结果:\", decoded_message)\n"
   ]
  }
 ],
 "metadata": {
  "kernelspec": {
   "display_name": "Python 3",
   "language": "python",
   "name": "python3"
  },
  "language_info": {
   "codemirror_mode": {
    "name": "ipython",
    "version": 3
   },
   "file_extension": ".py",
   "mimetype": "text/x-python",
   "name": "python",
   "nbconvert_exporter": "python",
   "pygments_lexer": "ipython3",
   "version": "3.11.5"
  }
 },
 "nbformat": 4,
 "nbformat_minor": 5
}
